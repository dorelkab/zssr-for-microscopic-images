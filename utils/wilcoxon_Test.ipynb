{
 "cells": [
  {
   "cell_type": "code",
   "execution_count": 1,
   "metadata": {},
   "outputs": [],
   "source": [
    "from scipy.stats import wilcoxon"
   ]
  },
  {
   "cell_type": "code",
   "execution_count": 5,
   "metadata": {},
   "outputs": [
    {
     "data": {
      "text/plain": [
       "(0.0, 0.0006533107814151376)"
      ]
     },
     "execution_count": 5,
     "metadata": {},
     "output_type": "execute_result"
    }
   ],
   "source": [
    "x=[0,0.112,0.105,0.066,0.006,0.084,0.011,0.021,0.099,0.036,0.042,0.037,0.019,0.014,0.023]\n",
    "y=[-0.306,-0.259,0.286,0.211,-0.202,0.215,-0.262,-0.255,-0.303,-0.28,-0.27,-0.315,-0.278,-0.218,-0.221]\n",
    "z=[0.306,0.371,0.036,0.002,0.245,0.099,0.279,0.293,0.328,0.293,0.23,0.352,0.264,0.188,0.202]\n",
    "w, p = wilcoxon(z)\n",
    "w, p"
   ]
  },
  {
   "cell_type": "code",
   "execution_count": null,
   "metadata": {},
   "outputs": [],
   "source": []
  }
 ],
 "metadata": {
  "kernelspec": {
   "display_name": "test",
   "language": "python",
   "name": "test"
  },
  "language_info": {
   "codemirror_mode": {
    "name": "ipython",
    "version": 3
   },
   "file_extension": ".py",
   "mimetype": "text/x-python",
   "name": "python",
   "nbconvert_exporter": "python",
   "pygments_lexer": "ipython3",
   "version": "3.8.5"
  }
 },
 "nbformat": 4,
 "nbformat_minor": 4
}
